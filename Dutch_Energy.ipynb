{
 "cells": [
  {
   "cell_type": "code",
   "execution_count": 1,
   "metadata": {},
   "outputs": [],
   "source": [
    "%matplotlib inline"
   ]
  },
  {
   "cell_type": "markdown",
   "metadata": {},
   "source": [
    "### Imports"
   ]
  },
  {
   "cell_type": "code",
   "execution_count": 2,
   "metadata": {},
   "outputs": [],
   "source": [
    "import pandas as pd\n",
    "import sqlite3 as lite\n",
    "import sys,os,glob,re\n",
    "import zipfile\n",
    "import matplotlib.pyplot as plt"
   ]
  },
  {
   "cell_type": "code",
   "execution_count": 3,
   "metadata": {},
   "outputs": [],
   "source": [
    "cwd = os.getcwd()"
   ]
  },
  {
   "cell_type": "code",
   "execution_count": 4,
   "metadata": {},
   "outputs": [],
   "source": [
    "zf = zipfile.ZipFile(cwd + '\\\\dutch-energy.zip')\n",
    "#csv_files = zf.infolist()\n",
    "csv_files = zf.namelist()\n",
    "liste_csv = [f for f in csv_files if f.endswith('.csv')]\n",
    "liste_fname = []\n",
    "pattern ='\\/(\\S+)\\.'\n",
    "for i in range(len(liste_csv)):\n",
    "    fin=re.findall(pattern, liste_csv[i])\n",
    "    if fin != []:\n",
    "        liste_fname.append(fin[0])\n",
    "        "
   ]
  },
  {
   "cell_type": "code",
   "execution_count": 5,
   "metadata": {},
   "outputs": [
    {
     "data": {
      "text/plain": [
       "<zipfile.ZipFile filename='C:\\\\Users\\\\tobia\\\\Documents\\\\python\\\\DutchEnergy\\\\dutch-energy.zip' mode='r'>"
      ]
     },
     "execution_count": 5,
     "metadata": {},
     "output_type": "execute_result"
    }
   ],
   "source": [
    "zf"
   ]
  },
  {
   "cell_type": "code",
   "execution_count": 6,
   "metadata": {},
   "outputs": [],
   "source": [
    "db_name = 'Dutch-Energy_DB.db' \n",
    "\n",
    "fillDB=False\n",
    "\n",
    "if fillDB:\n",
    "    print (\"Uncompressing and reading data... \")\n",
    "\n",
    "    for i in range(len(liste_csv)):\n",
    "    #for i in range(1):\n",
    "        print(liste_csv[i])\n",
    "        df = pd.read_csv(zf.open(liste_csv[i]))\n",
    "        # do df manipulations\n",
    "        conn = lite.connect(db_name)\n",
    "        cur = conn.cursor()\n",
    "        cur.execute('DROP TABLE IF EXISTS '+liste_fname[i])\n",
    "        print(\"Writing to db-file \"+db_name+\": \"+liste_fname[i])\n",
    "        df.to_sql(liste_fname[i], conn, if_exists='replace', index=False) # - writes the pd.df to SQLIte DB\n",
    "        pd.read_sql('select * from '+liste_fname[i], conn)\n",
    "        conn.commit()\n",
    "        conn.close()"
   ]
  },
  {
   "cell_type": "code",
   "execution_count": 7,
   "metadata": {},
   "outputs": [
    {
     "data": {
      "text/html": [
       "<div>\n",
       "<style scoped>\n",
       "    .dataframe tbody tr th:only-of-type {\n",
       "        vertical-align: middle;\n",
       "    }\n",
       "\n",
       "    .dataframe tbody tr th {\n",
       "        vertical-align: top;\n",
       "    }\n",
       "\n",
       "    .dataframe thead th {\n",
       "        text-align: right;\n",
       "    }\n",
       "</style>\n",
       "<table border=\"1\" class=\"dataframe\">\n",
       "  <thead>\n",
       "    <tr style=\"text-align: right;\">\n",
       "      <th></th>\n",
       "      <th>net_manager</th>\n",
       "      <th>purchase_area</th>\n",
       "      <th>street</th>\n",
       "      <th>zipcode_from</th>\n",
       "      <th>zipcode_to</th>\n",
       "      <th>city</th>\n",
       "      <th>delivery_perc</th>\n",
       "      <th>num_connections</th>\n",
       "      <th>perc_of_active_connections</th>\n",
       "      <th>type_conn_perc</th>\n",
       "      <th>type_of_connection</th>\n",
       "      <th>annual_consume</th>\n",
       "      <th>annual_consume_lowtarif_perc</th>\n",
       "      <th>smartmeter_perc</th>\n",
       "    </tr>\n",
       "  </thead>\n",
       "  <tbody>\n",
       "    <tr>\n",
       "      <th>0</th>\n",
       "      <td>Enexis B.V.</td>\n",
       "      <td>ENEXIS</td>\n",
       "      <td>Sasdijk</td>\n",
       "      <td>4251AB</td>\n",
       "      <td>4251AB</td>\n",
       "      <td>WERKENDAM</td>\n",
       "      <td>100</td>\n",
       "      <td>16</td>\n",
       "      <td>100</td>\n",
       "      <td>None</td>\n",
       "      <td>None</td>\n",
       "      <td>4282</td>\n",
       "      <td>25</td>\n",
       "      <td>0.0</td>\n",
       "    </tr>\n",
       "    <tr>\n",
       "      <th>1</th>\n",
       "      <td>Enexis B.V.</td>\n",
       "      <td>ENEXIS</td>\n",
       "      <td>Sasdijk</td>\n",
       "      <td>4251AC</td>\n",
       "      <td>4251AC</td>\n",
       "      <td>WERKENDAM</td>\n",
       "      <td>100</td>\n",
       "      <td>11</td>\n",
       "      <td>100</td>\n",
       "      <td>None</td>\n",
       "      <td>None</td>\n",
       "      <td>5113</td>\n",
       "      <td>10</td>\n",
       "      <td>0.0</td>\n",
       "    </tr>\n",
       "    <tr>\n",
       "      <th>2</th>\n",
       "      <td>Enexis B.V.</td>\n",
       "      <td>ENEXIS</td>\n",
       "      <td>Sasdijk</td>\n",
       "      <td>4251AD</td>\n",
       "      <td>4251AD</td>\n",
       "      <td>WERKENDAM</td>\n",
       "      <td>100</td>\n",
       "      <td>30</td>\n",
       "      <td>100</td>\n",
       "      <td>None</td>\n",
       "      <td>None</td>\n",
       "      <td>4809</td>\n",
       "      <td>34</td>\n",
       "      <td>0.0</td>\n",
       "    </tr>\n",
       "    <tr>\n",
       "      <th>3</th>\n",
       "      <td>Enexis B.V.</td>\n",
       "      <td>ENEXIS</td>\n",
       "      <td>Nieuweweg</td>\n",
       "      <td>4251AE</td>\n",
       "      <td>4251AG</td>\n",
       "      <td>WERKENDAM</td>\n",
       "      <td>100</td>\n",
       "      <td>21</td>\n",
       "      <td>100</td>\n",
       "      <td>None</td>\n",
       "      <td>None</td>\n",
       "      <td>5015</td>\n",
       "      <td>44</td>\n",
       "      <td>0.0</td>\n",
       "    </tr>\n",
       "    <tr>\n",
       "      <th>4</th>\n",
       "      <td>Enexis B.V.</td>\n",
       "      <td>ENEXIS</td>\n",
       "      <td>Koppenhof</td>\n",
       "      <td>4251AH</td>\n",
       "      <td>4251AH</td>\n",
       "      <td>WERKENDAM</td>\n",
       "      <td>100</td>\n",
       "      <td>12</td>\n",
       "      <td>100</td>\n",
       "      <td>None</td>\n",
       "      <td>None</td>\n",
       "      <td>3074</td>\n",
       "      <td>22</td>\n",
       "      <td>0.0</td>\n",
       "    </tr>\n",
       "  </tbody>\n",
       "</table>\n",
       "</div>"
      ],
      "text/plain": [
       "   net_manager purchase_area     street zipcode_from zipcode_to       city  \\\n",
       "0  Enexis B.V.        ENEXIS    Sasdijk       4251AB     4251AB  WERKENDAM   \n",
       "1  Enexis B.V.        ENEXIS    Sasdijk       4251AC     4251AC  WERKENDAM   \n",
       "2  Enexis B.V.        ENEXIS    Sasdijk       4251AD     4251AD  WERKENDAM   \n",
       "3  Enexis B.V.        ENEXIS  Nieuweweg       4251AE     4251AG  WERKENDAM   \n",
       "4  Enexis B.V.        ENEXIS  Koppenhof       4251AH     4251AH  WERKENDAM   \n",
       "\n",
       "   delivery_perc  num_connections  perc_of_active_connections type_conn_perc  \\\n",
       "0            100               16                         100           None   \n",
       "1            100               11                         100           None   \n",
       "2            100               30                         100           None   \n",
       "3            100               21                         100           None   \n",
       "4            100               12                         100           None   \n",
       "\n",
       "  type_of_connection  annual_consume  annual_consume_lowtarif_perc  \\\n",
       "0               None            4282                            25   \n",
       "1               None            5113                            10   \n",
       "2               None            4809                            34   \n",
       "3               None            5015                            44   \n",
       "4               None            3074                            22   \n",
       "\n",
       "   smartmeter_perc  \n",
       "0              0.0  \n",
       "1              0.0  \n",
       "2              0.0  \n",
       "3              0.0  \n",
       "4              0.0  "
      ]
     },
     "execution_count": 7,
     "metadata": {},
     "output_type": "execute_result"
    }
   ],
   "source": [
    "conn = lite.connect(db_name)\n",
    "df = pd.read_sql_query(\"select * from enexis_electricity_01012010;\", conn)\n",
    "df.head(5)"
   ]
  },
  {
   "cell_type": "markdown",
   "metadata": {},
   "source": [
    "###### Checking to see if any of our data has null values. If there were any, we’d drop or filter the null values out."
   ]
  },
  {
   "cell_type": "code",
   "execution_count": 8,
   "metadata": {},
   "outputs": [
    {
     "data": {
      "text/plain": [
       "net_manager                     False\n",
       "purchase_area                   False\n",
       "street                          False\n",
       "zipcode_from                    False\n",
       "zipcode_to                      False\n",
       "city                            False\n",
       "delivery_perc                   False\n",
       "num_connections                 False\n",
       "perc_of_active_connections      False\n",
       "type_conn_perc                   True\n",
       "type_of_connection               True\n",
       "annual_consume                  False\n",
       "annual_consume_lowtarif_perc    False\n",
       "smartmeter_perc                 False\n",
       "dtype: bool"
      ]
     },
     "execution_count": 8,
     "metadata": {},
     "output_type": "execute_result"
    }
   ],
   "source": [
    "df.isnull().any()"
   ]
  },
  {
   "cell_type": "markdown",
   "metadata": {},
   "source": [
    "###### Checking out the data types for each of our variables. We want to get a sense of whether or not data is numerical (int64, float64) or not (object). "
   ]
  },
  {
   "cell_type": "code",
   "execution_count": 9,
   "metadata": {},
   "outputs": [
    {
     "data": {
      "text/plain": [
       "net_manager                      object\n",
       "purchase_area                    object\n",
       "street                           object\n",
       "zipcode_from                     object\n",
       "zipcode_to                       object\n",
       "city                             object\n",
       "delivery_perc                     int64\n",
       "num_connections                   int64\n",
       "perc_of_active_connections        int64\n",
       "type_conn_perc                   object\n",
       "type_of_connection               object\n",
       "annual_consume                    int64\n",
       "annual_consume_lowtarif_perc      int64\n",
       "smartmeter_perc                 float64\n",
       "dtype: object"
      ]
     },
     "execution_count": 9,
     "metadata": {},
     "output_type": "execute_result"
    }
   ],
   "source": [
    "df.dtypes"
   ]
  },
  {
   "cell_type": "markdown",
   "metadata": {},
   "source": [
    "###### use df.describe() to look at all the variables in your analysis"
   ]
  },
  {
   "cell_type": "code",
   "execution_count": 10,
   "metadata": {},
   "outputs": [
    {
     "data": {
      "text/html": [
       "<div>\n",
       "<style scoped>\n",
       "    .dataframe tbody tr th:only-of-type {\n",
       "        vertical-align: middle;\n",
       "    }\n",
       "\n",
       "    .dataframe tbody tr th {\n",
       "        vertical-align: top;\n",
       "    }\n",
       "\n",
       "    .dataframe thead th {\n",
       "        text-align: right;\n",
       "    }\n",
       "</style>\n",
       "<table border=\"1\" class=\"dataframe\">\n",
       "  <thead>\n",
       "    <tr style=\"text-align: right;\">\n",
       "      <th></th>\n",
       "      <th>delivery_perc</th>\n",
       "      <th>num_connections</th>\n",
       "      <th>perc_of_active_connections</th>\n",
       "      <th>annual_consume</th>\n",
       "      <th>annual_consume_lowtarif_perc</th>\n",
       "      <th>smartmeter_perc</th>\n",
       "    </tr>\n",
       "  </thead>\n",
       "  <tbody>\n",
       "    <tr>\n",
       "      <th>count</th>\n",
       "      <td>107512.000000</td>\n",
       "      <td>107512.000000</td>\n",
       "      <td>107512.0</td>\n",
       "      <td>107512.000000</td>\n",
       "      <td>107512.000000</td>\n",
       "      <td>107512.000000</td>\n",
       "    </tr>\n",
       "    <tr>\n",
       "      <th>mean</th>\n",
       "      <td>99.951615</td>\n",
       "      <td>21.498633</td>\n",
       "      <td>100.0</td>\n",
       "      <td>4897.883901</td>\n",
       "      <td>34.984206</td>\n",
       "      <td>0.277950</td>\n",
       "    </tr>\n",
       "    <tr>\n",
       "      <th>std</th>\n",
       "      <td>0.788153</td>\n",
       "      <td>11.559507</td>\n",
       "      <td>0.0</td>\n",
       "      <td>3519.605442</td>\n",
       "      <td>17.833979</td>\n",
       "      <td>4.390744</td>\n",
       "    </tr>\n",
       "    <tr>\n",
       "      <th>min</th>\n",
       "      <td>0.000000</td>\n",
       "      <td>10.000000</td>\n",
       "      <td>100.0</td>\n",
       "      <td>199.000000</td>\n",
       "      <td>0.000000</td>\n",
       "      <td>0.000000</td>\n",
       "    </tr>\n",
       "    <tr>\n",
       "      <th>25%</th>\n",
       "      <td>100.000000</td>\n",
       "      <td>15.000000</td>\n",
       "      <td>100.0</td>\n",
       "      <td>3141.000000</td>\n",
       "      <td>22.000000</td>\n",
       "      <td>0.000000</td>\n",
       "    </tr>\n",
       "    <tr>\n",
       "      <th>50%</th>\n",
       "      <td>100.000000</td>\n",
       "      <td>19.000000</td>\n",
       "      <td>100.0</td>\n",
       "      <td>3952.000000</td>\n",
       "      <td>36.000000</td>\n",
       "      <td>0.000000</td>\n",
       "    </tr>\n",
       "    <tr>\n",
       "      <th>75%</th>\n",
       "      <td>100.000000</td>\n",
       "      <td>25.000000</td>\n",
       "      <td>100.0</td>\n",
       "      <td>5173.000000</td>\n",
       "      <td>48.000000</td>\n",
       "      <td>0.000000</td>\n",
       "    </tr>\n",
       "    <tr>\n",
       "      <th>max</th>\n",
       "      <td>100.000000</td>\n",
       "      <td>451.000000</td>\n",
       "      <td>100.0</td>\n",
       "      <td>66446.000000</td>\n",
       "      <td>100.000000</td>\n",
       "      <td>100.000000</td>\n",
       "    </tr>\n",
       "  </tbody>\n",
       "</table>\n",
       "</div>"
      ],
      "text/plain": [
       "       delivery_perc  num_connections  perc_of_active_connections  \\\n",
       "count  107512.000000    107512.000000                    107512.0   \n",
       "mean       99.951615        21.498633                       100.0   \n",
       "std         0.788153        11.559507                         0.0   \n",
       "min         0.000000        10.000000                       100.0   \n",
       "25%       100.000000        15.000000                       100.0   \n",
       "50%       100.000000        19.000000                       100.0   \n",
       "75%       100.000000        25.000000                       100.0   \n",
       "max       100.000000       451.000000                       100.0   \n",
       "\n",
       "       annual_consume  annual_consume_lowtarif_perc  smartmeter_perc  \n",
       "count   107512.000000                 107512.000000    107512.000000  \n",
       "mean      4897.883901                     34.984206         0.277950  \n",
       "std       3519.605442                     17.833979         4.390744  \n",
       "min        199.000000                      0.000000         0.000000  \n",
       "25%       3141.000000                     22.000000         0.000000  \n",
       "50%       3952.000000                     36.000000         0.000000  \n",
       "75%       5173.000000                     48.000000         0.000000  \n",
       "max      66446.000000                    100.000000       100.000000  "
      ]
     },
     "execution_count": 10,
     "metadata": {},
     "output_type": "execute_result"
    }
   ],
   "source": [
    "df.describe()"
   ]
  },
  {
   "cell_type": "markdown",
   "metadata": {},
   "source": [
    "###### plot histograms of the variables that the analysis is targeting using plt.pyplot.hist()###### "
   ]
  },
  {
   "cell_type": "code",
   "execution_count": 11,
   "metadata": {},
   "outputs": [
    {
     "data": {
      "image/png": "[encoded data removed]",
      "text/plain": [
       "<Figure size 864x432 with 2 Axes>"
      ]
     },
     "metadata": {
      "needs_background": "light"
     },
     "output_type": "display_data"
    }
   ],
   "source": [
    "fig = plt.figure(figsize=(12, 6))\n",
    "numc = fig.add_subplot(121)\n",
    "cons = fig.add_subplot(122)\n",
    "\n",
    "numc.hist(df.num_connections, bins=80)\n",
    "numc.set_xlabel('Number of Conns')\n",
    "numc.set_title(\"Histogram of # Connections\")\n",
    "numc.set_yscale('log')\n",
    "\n",
    "cons.hist(df.annual_consume, bins=80)\n",
    "cons.set_xlabel('Annual Consume')\n",
    "cons.set_title(\"Histogram of Annual Consume\")\n",
    "cons.set_yscale('log')\n",
    "\n",
    "plt.show()"
   ]
  },
  {
   "cell_type": "code",
   "execution_count": 12,
   "metadata": {},
   "outputs": [],
   "source": [
    "import statsmodels.api as sm\n",
    "from statsmodels.formula.api import ols"
   ]
  },
  {
   "cell_type": "code",
   "execution_count": 13,
   "metadata": {},
   "outputs": [
    {
     "name": "stdout",
     "output_type": "stream",
     "text": [
      "                            OLS Regression Results                            \n",
      "==============================================================================\n",
      "Dep. Variable:        num_connections   R-squared:                       0.000\n",
      "Model:                            OLS   Adj. R-squared:                  0.000\n",
      "Method:                 Least Squares   F-statistic:                     4.293\n",
      "Date:                Sun, 24 Mar 2019   Prob (F-statistic):             0.0383\n",
      "Time:                        12:31:02   Log-Likelihood:            -4.1569e+05\n",
      "No. Observations:              107512   AIC:                         8.314e+05\n",
      "Df Residuals:                  107510   BIC:                         8.314e+05\n",
      "Df Model:                           1                                         \n",
      "Covariance Type:            nonrobust                                         \n",
      "==================================================================================\n",
      "                     coef    std err          t      P>|t|      [0.025      0.975]\n",
      "----------------------------------------------------------------------------------\n",
      "Intercept         21.3970      0.060    354.183      0.000      21.279      21.515\n",
      "annual_consume  2.075e-05      1e-05      2.072      0.038    1.12e-06    4.04e-05\n",
      "==============================================================================\n",
      "Omnibus:                   112732.265   Durbin-Watson:                   1.719\n",
      "Prob(Omnibus):                  0.000   Jarque-Bera (JB):         21264357.397\n",
      "Skew:                           4.905   Prob(JB):                         0.00\n",
      "Kurtosis:                      71.195   Cond. No.                     1.03e+04\n",
      "==============================================================================\n",
      "\n",
      "Warnings:\n",
      "[1] Standard Errors assume that the covariance matrix of the errors is correctly specified.\n",
      "[2] The condition number is large, 1.03e+04. This might indicate that there are\n",
      "strong multicollinearity or other numerical problems.\n"
     ]
    }
   ],
   "source": [
    "m = ols('num_connections ~ annual_consume',df).fit()\n",
    "print (m.summary())"
   ]
  },
  {
   "cell_type": "code",
   "execution_count": 14,
   "metadata": {},
   "outputs": [],
   "source": [
    "#https://regex101.com/r/Vhrnul/2\n",
    "pattern_1='20+[0-9]{2}'"
   ]
  },
  {
   "cell_type": "code",
   "execution_count": 15,
   "metadata": {},
   "outputs": [],
   "source": [
    "years=re.findall(pattern_1,str(liste_fname))"
   ]
  },
  {
   "cell_type": "code",
   "execution_count": 16,
   "metadata": {},
   "outputs": [
    {
     "data": {
      "text/plain": [
       "{'2009',\n",
       " '2010',\n",
       " '2011',\n",
       " '2012',\n",
       " '2013',\n",
       " '2014',\n",
       " '2015',\n",
       " '2016',\n",
       " '2017',\n",
       " '2018',\n",
       " '2019'}"
      ]
     },
     "execution_count": 16,
     "metadata": {},
     "output_type": "execute_result"
    }
   ],
   "source": [
    "dyears=set(years); dyears"
   ]
  },
  {
   "cell_type": "code",
   "execution_count": 17,
   "metadata": {},
   "outputs": [],
   "source": [
    "def get_dataperyear(datalist,yearlist,pattern):\n",
    "    match=[]\n",
    "    for j in range(len(yearlist)):\n",
    "        match.append([])\n",
    "        for i in range(len(datalist)):\n",
    "            patternfull=pattern+list(yearlist)[j]\n",
    "            dummy = re.findall(patternfull,datalist[i])\n",
    "            if dummy !=[]:\n",
    "                match[j].append(dummy[0])\n",
    "    \n",
    "    return match\n",
    "\n",
    "def flatten(liste):\n",
    "    return [item for sublist in liste for item in sublist]"
   ]
  },
  {
   "cell_type": "code",
   "execution_count": 18,
   "metadata": {},
   "outputs": [
    {
     "data": {
      "text/plain": [
       "[['enexis_electricity_01012011',\n",
       "  'liander_electricity_01012011',\n",
       "  'stedin_electricity_2011'],\n",
       " ['enexis_electricity_01012013',\n",
       "  'liander_electricity_01012013',\n",
       "  'stedin_electricity_2013'],\n",
       " ['liander_electricity_01012009', 'stedin_electricity_2009'],\n",
       " ['enexis_electricity_01012014',\n",
       "  'liander_electricity_01012014',\n",
       "  'stedin_electricity_2014'],\n",
       " ['enexis_electricity_01012018',\n",
       "  'liander_electricity_01012018',\n",
       "  'stedin_electricity_2018'],\n",
       " ['enexis_electricity_01012016',\n",
       "  'liander_electricity_01012016',\n",
       "  'stedin_electricity_2016'],\n",
       " ['enexis_electricity_01012019',\n",
       "  'liander_electricity_01012019',\n",
       "  'stedin_electricity_2019'],\n",
       " ['enexis_electricity_01012012',\n",
       "  'liander_electricity_01012012',\n",
       "  'stedin_electricity_2012'],\n",
       " ['enexis_electricity_01012015',\n",
       "  'liander_electricity_01012015',\n",
       "  'stedin_electricity_2015'],\n",
       " ['liander_electricity_01012017',\n",
       "  'enexis_electricity_01012017',\n",
       "  'stedin_electricity_2017'],\n",
       " ['enexis_electricity_01012010',\n",
       "  'liander_electricity_01012010',\n",
       "  'stedin_electricity_2010']]"
      ]
     },
     "execution_count": 18,
     "metadata": {},
     "output_type": "execute_result"
    }
   ],
   "source": [
    "patternpart='.*elec.*'\n",
    "sorted_energy=get_dataperyear(liste_fname,list(dyears),patternpart);sorted_energy"
   ]
  },
  {
   "cell_type": "code",
   "execution_count": 19,
   "metadata": {},
   "outputs": [
    {
     "data": {
      "text/plain": [
       "11"
      ]
     },
     "execution_count": 19,
     "metadata": {},
     "output_type": "execute_result"
    }
   ],
   "source": [
    "len(sorted_energy)"
   ]
  },
  {
   "cell_type": "code",
   "execution_count": 20,
   "metadata": {},
   "outputs": [],
   "source": [
    "def dfyear_wrapper(dflist,year):\n",
    "    liste=[]\n",
    "    df=[]\n",
    "    for i in range(len(dflist)):\n",
    "        df=pd.read_sql_query(\"select * from \"+dflist[i],conn)\n",
    "        df['year']=pd.Series(year,index=df.index)\n",
    "        liste.append(df)\n",
    "    return liste"
   ]
  },
  {
   "cell_type": "code",
   "execution_count": 21,
   "metadata": {},
   "outputs": [
    {
     "data": {
      "text/html": [
       "<div>\n",
       "<style scoped>\n",
       "    .dataframe tbody tr th:only-of-type {\n",
       "        vertical-align: middle;\n",
       "    }\n",
       "\n",
       "    .dataframe tbody tr th {\n",
       "        vertical-align: top;\n",
       "    }\n",
       "\n",
       "    .dataframe thead th {\n",
       "        text-align: right;\n",
       "    }\n",
       "</style>\n",
       "<table border=\"1\" class=\"dataframe\">\n",
       "  <thead>\n",
       "    <tr style=\"text-align: right;\">\n",
       "      <th></th>\n",
       "      <th>net_manager</th>\n",
       "      <th>purchase_area</th>\n",
       "      <th>street</th>\n",
       "      <th>zipcode_from</th>\n",
       "      <th>zipcode_to</th>\n",
       "      <th>city</th>\n",
       "      <th>delivery_perc</th>\n",
       "      <th>num_connections</th>\n",
       "      <th>perc_of_active_connections</th>\n",
       "      <th>type_conn_perc</th>\n",
       "      <th>type_of_connection</th>\n",
       "      <th>annual_consume</th>\n",
       "      <th>annual_consume_lowtarif_perc</th>\n",
       "      <th>smartmeter_perc</th>\n",
       "      <th>year</th>\n",
       "    </tr>\n",
       "  </thead>\n",
       "  <tbody>\n",
       "    <tr>\n",
       "      <th>0</th>\n",
       "      <td>Enexis B.V.</td>\n",
       "      <td>ENEXIS</td>\n",
       "      <td>Sasdijk</td>\n",
       "      <td>4251AB</td>\n",
       "      <td>4251AB</td>\n",
       "      <td>WERKENDAM</td>\n",
       "      <td>100</td>\n",
       "      <td>16</td>\n",
       "      <td>100</td>\n",
       "      <td>50</td>\n",
       "      <td>1X25</td>\n",
       "      <td>4961</td>\n",
       "      <td>34</td>\n",
       "      <td>0.0</td>\n",
       "      <td>2011</td>\n",
       "    </tr>\n",
       "    <tr>\n",
       "      <th>1</th>\n",
       "      <td>Enexis B.V.</td>\n",
       "      <td>ENEXIS</td>\n",
       "      <td>Sasdijk</td>\n",
       "      <td>4251AC</td>\n",
       "      <td>4251AC</td>\n",
       "      <td>WERKENDAM</td>\n",
       "      <td>100</td>\n",
       "      <td>11</td>\n",
       "      <td>100</td>\n",
       "      <td>64</td>\n",
       "      <td>1X25</td>\n",
       "      <td>4517</td>\n",
       "      <td>13</td>\n",
       "      <td>0.0</td>\n",
       "      <td>2011</td>\n",
       "    </tr>\n",
       "    <tr>\n",
       "      <th>2</th>\n",
       "      <td>Enexis B.V.</td>\n",
       "      <td>ENEXIS</td>\n",
       "      <td>Sasdijk</td>\n",
       "      <td>4251AD</td>\n",
       "      <td>4251AD</td>\n",
       "      <td>WERKENDAM</td>\n",
       "      <td>100</td>\n",
       "      <td>30</td>\n",
       "      <td>100</td>\n",
       "      <td>43</td>\n",
       "      <td>3X25</td>\n",
       "      <td>3675</td>\n",
       "      <td>31</td>\n",
       "      <td>0.0</td>\n",
       "      <td>2011</td>\n",
       "    </tr>\n",
       "    <tr>\n",
       "      <th>3</th>\n",
       "      <td>Enexis B.V.</td>\n",
       "      <td>ENEXIS</td>\n",
       "      <td>Nieuweweg</td>\n",
       "      <td>4251AE</td>\n",
       "      <td>4251AG</td>\n",
       "      <td>WERKENDAM</td>\n",
       "      <td>100</td>\n",
       "      <td>21</td>\n",
       "      <td>100</td>\n",
       "      <td>52</td>\n",
       "      <td>1X25</td>\n",
       "      <td>5249</td>\n",
       "      <td>48</td>\n",
       "      <td>0.0</td>\n",
       "      <td>2011</td>\n",
       "    </tr>\n",
       "    <tr>\n",
       "      <th>4</th>\n",
       "      <td>Enexis B.V.</td>\n",
       "      <td>ENEXIS</td>\n",
       "      <td>Koppenhof</td>\n",
       "      <td>4251AH</td>\n",
       "      <td>4251AH</td>\n",
       "      <td>WERKENDAM</td>\n",
       "      <td>100</td>\n",
       "      <td>12</td>\n",
       "      <td>100</td>\n",
       "      <td>33</td>\n",
       "      <td>1X25</td>\n",
       "      <td>3226</td>\n",
       "      <td>33</td>\n",
       "      <td>0.0</td>\n",
       "      <td>2011</td>\n",
       "    </tr>\n",
       "  </tbody>\n",
       "</table>\n",
       "</div>"
      ],
      "text/plain": [
       "   net_manager purchase_area     street zipcode_from zipcode_to       city  \\\n",
       "0  Enexis B.V.        ENEXIS    Sasdijk       4251AB     4251AB  WERKENDAM   \n",
       "1  Enexis B.V.        ENEXIS    Sasdijk       4251AC     4251AC  WERKENDAM   \n",
       "2  Enexis B.V.        ENEXIS    Sasdijk       4251AD     4251AD  WERKENDAM   \n",
       "3  Enexis B.V.        ENEXIS  Nieuweweg       4251AE     4251AG  WERKENDAM   \n",
       "4  Enexis B.V.        ENEXIS  Koppenhof       4251AH     4251AH  WERKENDAM   \n",
       "\n",
       "   delivery_perc  num_connections  perc_of_active_connections  type_conn_perc  \\\n",
       "0            100               16                         100              50   \n",
       "1            100               11                         100              64   \n",
       "2            100               30                         100              43   \n",
       "3            100               21                         100              52   \n",
       "4            100               12                         100              33   \n",
       "\n",
       "  type_of_connection  annual_consume  annual_consume_lowtarif_perc  \\\n",
       "0               1X25            4961                            34   \n",
       "1               1X25            4517                            13   \n",
       "2               3X25            3675                            31   \n",
       "3               1X25            5249                            48   \n",
       "4               1X25            3226                            33   \n",
       "\n",
       "   smartmeter_perc  year  \n",
       "0              0.0  2011  \n",
       "1              0.0  2011  \n",
       "2              0.0  2011  \n",
       "3              0.0  2011  \n",
       "4              0.0  2011  "
      ]
     },
     "execution_count": 21,
     "metadata": {},
     "output_type": "execute_result"
    }
   ],
   "source": [
    "aaa=dfyear_wrapper(sorted_energy[0],list(dyears)[0]);aaa[0].head(5)"
   ]
  },
  {
   "cell_type": "code",
   "execution_count": 22,
   "metadata": {},
   "outputs": [
    {
     "data": {
      "text/plain": [
       "'2011'"
      ]
     },
     "execution_count": 22,
     "metadata": {},
     "output_type": "execute_result"
    }
   ],
   "source": [
    "list(dyears)[0]"
   ]
  },
  {
   "cell_type": "code",
   "execution_count": 23,
   "metadata": {},
   "outputs": [
    {
     "data": {
      "text/plain": [
       "['enexis_electricity_01012011',\n",
       " 'liander_electricity_01012011',\n",
       " 'stedin_electricity_2011']"
      ]
     },
     "execution_count": 23,
     "metadata": {},
     "output_type": "execute_result"
    }
   ],
   "source": [
    "sorted_energy[0]"
   ]
  },
  {
   "cell_type": "code",
   "execution_count": 24,
   "metadata": {},
   "outputs": [
    {
     "name": "stdout",
     "output_type": "stream",
     "text": [
      "Writing to db-file Dutch-ElectricityYear_DB.db: Y2009\n",
      "Writing to db-file Dutch-ElectricityYear_DB.db: Y2010\n",
      "Writing to db-file Dutch-ElectricityYear_DB.db: Y2011\n",
      "Writing to db-file Dutch-ElectricityYear_DB.db: Y2012\n",
      "Writing to db-file Dutch-ElectricityYear_DB.db: Y2013\n",
      "Writing to db-file Dutch-ElectricityYear_DB.db: Y2014\n",
      "Writing to db-file Dutch-ElectricityYear_DB.db: Y2015\n",
      "Writing to db-file Dutch-ElectricityYear_DB.db: Y2016\n",
      "Writing to db-file Dutch-ElectricityYear_DB.db: Y2017\n",
      "Writing to db-file Dutch-ElectricityYear_DB.db: Y2018\n",
      "Writing to db-file Dutch-ElectricityYear_DB.db: Y2019\n"
     ]
    }
   ],
   "source": [
    "db_name2='Dutch-ElectricityYear_DB.db'\n",
    "conn2=lite.connect(db_name2)\n",
    "\n",
    "Write_New=False\n",
    "\n",
    "def merge_to_df(dflist_of_year,year):\n",
    "    df_all=pd.DataFrame()\n",
    "    isinstance(df_all, pd.DataFrame)\n",
    "    for i in range(len(dflist_of_year)):\n",
    "        df=pd.read_sql_query(\"select * from \"+dflist_of_year[i],conn)\n",
    "        df['year']=pd.Series(year,index=df.index)\n",
    "        newdf=df_all.append(df,ignore_index=True,sort=True)\n",
    "        df_all=newdf\n",
    "    \n",
    "    return newdf\n",
    "\n",
    "if Write_New:\n",
    "    for i in range(len(sorted_energy)):\n",
    "        cur2 = conn2.cursor()\n",
    "        cur2.execute('DROP TABLE IF EXISTS '+'Y'+str(sorted(dyears)[i]))\n",
    "        print(\"Writing to db-file \"+db_name2+\": \"+'Y'+str(sorted(dyears)[i]))\n",
    "        df=merge_to_df(sorted_energy[i],sorted(dyears)[i])\n",
    "        df.to_sql('Y'+sorted(dyears)[i], conn2, if_exists='replace', index=False) # - writes the pd.df to SQLIte DB\n",
    "        pd.read_sql('select * from '+'Y'+str(sorted(dyears)[i]), conn2)\n",
    "        conn2.commit()\n",
    "    \n",
    "    conn2.close()\n",
    "    \n",
    "#df.to_sql(liste_fname[i], conn, if_exists='replace', index=False)\n",
    "#pd.merge(df1, df2, on='Customer_id', how='left')"
   ]
  },
  {
   "cell_type": "code",
   "execution_count": 25,
   "metadata": {},
   "outputs": [
    {
     "data": {
      "text/html": [
       "<div>\n",
       "<style scoped>\n",
       "    .dataframe tbody tr th:only-of-type {\n",
       "        vertical-align: middle;\n",
       "    }\n",
       "\n",
       "    .dataframe tbody tr th {\n",
       "        vertical-align: top;\n",
       "    }\n",
       "\n",
       "    .dataframe thead th {\n",
       "        text-align: right;\n",
       "    }\n",
       "</style>\n",
       "<table border=\"1\" class=\"dataframe\">\n",
       "  <thead>\n",
       "    <tr style=\"text-align: right;\">\n",
       "      <th></th>\n",
       "      <th>annual_consume</th>\n",
       "      <th>annual_consume_lowtarif_perc</th>\n",
       "      <th>city</th>\n",
       "      <th>delivery_perc</th>\n",
       "      <th>net_manager</th>\n",
       "      <th>num_connections</th>\n",
       "      <th>perc_of_active_connections</th>\n",
       "      <th>purchase_area</th>\n",
       "      <th>smartmeter_perc</th>\n",
       "      <th>street</th>\n",
       "      <th>type_conn_perc</th>\n",
       "      <th>type_of_connection</th>\n",
       "      <th>year</th>\n",
       "      <th>zipcode_from</th>\n",
       "      <th>zipcode_to</th>\n",
       "    </tr>\n",
       "  </thead>\n",
       "  <tbody>\n",
       "    <tr>\n",
       "      <th>0</th>\n",
       "      <td>4961</td>\n",
       "      <td>34.0</td>\n",
       "      <td>WERKENDAM</td>\n",
       "      <td>100.0</td>\n",
       "      <td>Enexis B.V.</td>\n",
       "      <td>16</td>\n",
       "      <td>100.0</td>\n",
       "      <td>ENEXIS</td>\n",
       "      <td>0.0</td>\n",
       "      <td>Sasdijk</td>\n",
       "      <td>50</td>\n",
       "      <td>1X25</td>\n",
       "      <td>2011</td>\n",
       "      <td>4251AB</td>\n",
       "      <td>4251AB</td>\n",
       "    </tr>\n",
       "    <tr>\n",
       "      <th>1</th>\n",
       "      <td>4517</td>\n",
       "      <td>13.0</td>\n",
       "      <td>WERKENDAM</td>\n",
       "      <td>100.0</td>\n",
       "      <td>Enexis B.V.</td>\n",
       "      <td>11</td>\n",
       "      <td>100.0</td>\n",
       "      <td>ENEXIS</td>\n",
       "      <td>0.0</td>\n",
       "      <td>Sasdijk</td>\n",
       "      <td>64</td>\n",
       "      <td>1X25</td>\n",
       "      <td>2011</td>\n",
       "      <td>4251AC</td>\n",
       "      <td>4251AC</td>\n",
       "    </tr>\n",
       "    <tr>\n",
       "      <th>2</th>\n",
       "      <td>3675</td>\n",
       "      <td>31.0</td>\n",
       "      <td>WERKENDAM</td>\n",
       "      <td>100.0</td>\n",
       "      <td>Enexis B.V.</td>\n",
       "      <td>30</td>\n",
       "      <td>100.0</td>\n",
       "      <td>ENEXIS</td>\n",
       "      <td>0.0</td>\n",
       "      <td>Sasdijk</td>\n",
       "      <td>43</td>\n",
       "      <td>3X25</td>\n",
       "      <td>2011</td>\n",
       "      <td>4251AD</td>\n",
       "      <td>4251AD</td>\n",
       "    </tr>\n",
       "    <tr>\n",
       "      <th>3</th>\n",
       "      <td>5249</td>\n",
       "      <td>48.0</td>\n",
       "      <td>WERKENDAM</td>\n",
       "      <td>100.0</td>\n",
       "      <td>Enexis B.V.</td>\n",
       "      <td>21</td>\n",
       "      <td>100.0</td>\n",
       "      <td>ENEXIS</td>\n",
       "      <td>0.0</td>\n",
       "      <td>Nieuweweg</td>\n",
       "      <td>52</td>\n",
       "      <td>1X25</td>\n",
       "      <td>2011</td>\n",
       "      <td>4251AE</td>\n",
       "      <td>4251AG</td>\n",
       "    </tr>\n",
       "    <tr>\n",
       "      <th>4</th>\n",
       "      <td>3226</td>\n",
       "      <td>33.0</td>\n",
       "      <td>WERKENDAM</td>\n",
       "      <td>100.0</td>\n",
       "      <td>Enexis B.V.</td>\n",
       "      <td>12</td>\n",
       "      <td>100.0</td>\n",
       "      <td>ENEXIS</td>\n",
       "      <td>0.0</td>\n",
       "      <td>Koppenhof</td>\n",
       "      <td>33</td>\n",
       "      <td>1X25</td>\n",
       "      <td>2011</td>\n",
       "      <td>4251AH</td>\n",
       "      <td>4251AH</td>\n",
       "    </tr>\n",
       "  </tbody>\n",
       "</table>\n",
       "</div>"
      ],
      "text/plain": [
       "   annual_consume  annual_consume_lowtarif_perc       city  delivery_perc  \\\n",
       "0            4961                          34.0  WERKENDAM          100.0   \n",
       "1            4517                          13.0  WERKENDAM          100.0   \n",
       "2            3675                          31.0  WERKENDAM          100.0   \n",
       "3            5249                          48.0  WERKENDAM          100.0   \n",
       "4            3226                          33.0  WERKENDAM          100.0   \n",
       "\n",
       "   net_manager  num_connections  perc_of_active_connections purchase_area  \\\n",
       "0  Enexis B.V.               16                       100.0        ENEXIS   \n",
       "1  Enexis B.V.               11                       100.0        ENEXIS   \n",
       "2  Enexis B.V.               30                       100.0        ENEXIS   \n",
       "3  Enexis B.V.               21                       100.0        ENEXIS   \n",
       "4  Enexis B.V.               12                       100.0        ENEXIS   \n",
       "\n",
       "   smartmeter_perc     street  type_conn_perc type_of_connection  year  \\\n",
       "0              0.0    Sasdijk              50               1X25  2011   \n",
       "1              0.0    Sasdijk              64               1X25  2011   \n",
       "2              0.0    Sasdijk              43               3X25  2011   \n",
       "3              0.0  Nieuweweg              52               1X25  2011   \n",
       "4              0.0  Koppenhof              33               1X25  2011   \n",
       "\n",
       "  zipcode_from zipcode_to  \n",
       "0       4251AB     4251AB  \n",
       "1       4251AC     4251AC  \n",
       "2       4251AD     4251AD  \n",
       "3       4251AE     4251AG  \n",
       "4       4251AH     4251AH  "
      ]
     },
     "execution_count": 25,
     "metadata": {},
     "output_type": "execute_result"
    }
   ],
   "source": [
    "bbb=merge_to_df(sorted_energy[0],list(dyears)[0]);bbb.head(5)"
   ]
  },
  {
   "cell_type": "code",
   "execution_count": 26,
   "metadata": {},
   "outputs": [
    {
     "data": {
      "text/plain": [
       "108299"
      ]
     },
     "execution_count": 26,
     "metadata": {},
     "output_type": "execute_result"
    }
   ],
   "source": [
    "len(aaa[0])"
   ]
  },
  {
   "cell_type": "code",
   "execution_count": 27,
   "metadata": {},
   "outputs": [
    {
     "data": {
      "text/plain": [
       "325219"
      ]
     },
     "execution_count": 27,
     "metadata": {},
     "output_type": "execute_result"
    }
   ],
   "source": [
    "len(bbb)"
   ]
  },
  {
   "cell_type": "code",
   "execution_count": 28,
   "metadata": {},
   "outputs": [
    {
     "data": {
      "text/plain": [
       "['2009',\n",
       " '2010',\n",
       " '2011',\n",
       " '2012',\n",
       " '2013',\n",
       " '2014',\n",
       " '2015',\n",
       " '2016',\n",
       " '2017',\n",
       " '2018',\n",
       " '2019']"
      ]
     },
     "execution_count": 28,
     "metadata": {},
     "output_type": "execute_result"
    }
   ],
   "source": [
    "sorted(dyears)"
   ]
  },
  {
   "cell_type": "code",
   "execution_count": null,
   "metadata": {},
   "outputs": [],
   "source": []
  }
 ],
 "metadata": {
  "kernelspec": {
   "display_name": "Python 3",
   "language": "python",
   "name": "python3"
  },
  "language_info": {
   "codemirror_mode": {
    "name": "ipython",
    "version": 3
   },
   "file_extension": ".py",
   "mimetype": "text/x-python",
   "name": "python",
   "nbconvert_exporter": "python",
   "pygments_lexer": "ipython3",
   "version": "3.7.0"
  }
 },
 "nbformat": 4,
 "nbformat_minor": 2
}
